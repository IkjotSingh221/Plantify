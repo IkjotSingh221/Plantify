version https://git-lfs.github.com/spec/v1
oid sha256:27ae58eae5ebfa50473eb65f6ecc5b59dc40ed412e89b72aa3e3bf3c691a611c
size 192087140
